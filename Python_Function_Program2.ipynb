{
 "cells": [
  {
   "cell_type": "markdown",
   "id": "7b6320cf-e9e4-444c-8a5c-fe84b9ce8615",
   "metadata": {},
   "source": [
    "# Print Function Task "
   ]
  },
  {
   "cell_type": "code",
   "execution_count": 1,
   "id": "0e4216f6-f00d-4cb3-8110-e737003e8a1a",
   "metadata": {},
   "outputs": [],
   "source": [
    "# print function use for answer"
   ]
  },
  {
   "cell_type": "code",
   "execution_count": 2,
   "id": "24411bb1-fd19-48e1-a146-5990edce483a",
   "metadata": {},
   "outputs": [
    {
     "name": "stdout",
     "output_type": "stream",
     "text": [
      "10\n",
      "20\n"
     ]
    }
   ],
   "source": [
    "a = 10\n",
    "b=  20\n",
    "print(a)\n",
    "print(b)"
   ]
  },
  {
   "cell_type": "code",
   "execution_count": 3,
   "id": "fe75c67f-4cec-4ee8-904f-b6ff634671d3",
   "metadata": {},
   "outputs": [
    {
     "name": "stdout",
     "output_type": "stream",
     "text": [
      "90\n"
     ]
    }
   ],
   "source": [
    "print(90)"
   ]
  },
  {
   "cell_type": "code",
   "execution_count": 4,
   "id": "bc9695d4-d271-4f14-92f0-dd507ea4f626",
   "metadata": {},
   "outputs": [
    {
     "name": "stdout",
     "output_type": "stream",
     "text": [
      "80\n",
      "80 80\n",
      "python\n",
      "10 20 python\n"
     ]
    }
   ],
   "source": [
    "print(80)\n",
    "print(80,80)\n",
    "print('python')\n",
    "print(10,20,'python')"
   ]
  },
  {
   "cell_type": "code",
   "execution_count": 5,
   "id": "0341a293-ccc4-4fb2-89d0-522d79db4003",
   "metadata": {},
   "outputs": [
    {
     "name": "stdout",
     "output_type": "stream",
     "text": [
      "120\n"
     ]
    }
   ],
   "source": [
    "num1 = 30\n",
    "num2 = 90\n",
    "add = num1 + num2\n",
    "print(add)"
   ]
  },
  {
   "cell_type": "markdown",
   "id": "7af0fad5-355a-4348-97e3-8c0996f323a7",
   "metadata": {},
   "source": [
    "# Print with string"
   ]
  },
  {
   "cell_type": "code",
   "execution_count": 7,
   "id": "ae4f71aa-afe9-4241-91c1-e9fdad9b21bb",
   "metadata": {},
   "outputs": [
    {
     "name": "stdout",
     "output_type": "stream",
     "text": [
      "The addiction of 10 and 20 is= 30\n"
     ]
    }
   ],
   "source": [
    "num1 = 10\n",
    "num2 = 20\n",
    "add = num1 + num2\n",
    "print('The addiction of', num1,'and',num2,'is=', add)"
   ]
  },
  {
   "cell_type": "code",
   "execution_count": 11,
   "id": "070faddf-f09a-40e2-8a3c-0972380cc7a9",
   "metadata": {},
   "outputs": [
    {
     "name": "stdout",
     "output_type": "stream",
     "text": [
      "The sub of 20 and 50 is= -30\n"
     ]
    }
   ],
   "source": [
    "num3 = 20\n",
    "num4 = 50\n",
    "sub = num3 - num4\n",
    "print('The sub of',num3,'and', num4,'is=',sub)"
   ]
  },
  {
   "cell_type": "code",
   "execution_count": 16,
   "id": "0529d494-711f-46da-8c9d-587ff3d71072",
   "metadata": {},
   "outputs": [
    {
     "name": "stdout",
     "output_type": "stream",
     "text": [
      "My name is Atul i am from Pune\n"
     ]
    }
   ],
   "source": [
    "name = 'Atul'\n",
    "age =  21\n",
    "city = 'Pune'\n",
    "print('My name is',name,'i am from',city)"
   ]
  },
  {
   "cell_type": "code",
   "execution_count": 18,
   "id": "fbccf65f-ed48-4c18-9fb0-2049a440506e",
   "metadata": {},
   "outputs": [],
   "source": [
    "#. format() method"
   ]
  },
  {
   "cell_type": "code",
   "execution_count": 19,
   "id": "d8331323-0ba1-4a51-b159-2f7067685a4d",
   "metadata": {},
   "outputs": [
    {
     "name": "stdout",
     "output_type": "stream",
     "text": [
      "The addiction of 20 and 30 is = 50\n"
     ]
    }
   ],
   "source": [
    "num1 = 20\n",
    "num2 = 30\n",
    "add = num1 + num2\n",
    "print('The addiction of {} and {} is = {}'.format(num1,num2,add))"
   ]
  },
  {
   "cell_type": "code",
   "execution_count": 23,
   "id": "12f11ab7-bc68-44c7-8ddf-cd2f3342ec1e",
   "metadata": {},
   "outputs": [],
   "source": [
    "# round function is used for getting 2 digit after decimal"
   ]
  },
  {
   "cell_type": "code",
   "execution_count": 24,
   "id": "b4bea4cb-77f1-459e-9e59-b828e27f211d",
   "metadata": {},
   "outputs": [
    {
     "name": "stdout",
     "output_type": "stream",
     "text": [
      "The average of 100,25, and 333 is = 152.66666666666666 or 152.67\n"
     ]
    }
   ],
   "source": [
    "Number1 = 100\n",
    "Number2 = 25\n",
    "Number3 = 333\n",
    "avg  =  (Number1 + Number2 + Number3)/3\n",
    "avg1 =  round((Number1+ Number2+ Number3)/3,2)\n",
    "print('The average of {},{}, and {} is = {} or {}'.format(Number1,Number2,Number3,avg,avg1))"
   ]
  },
  {
   "cell_type": "code",
   "execution_count": 27,
   "id": "2240295f-33d4-4514-9ec5-4c0661ab4ee2",
   "metadata": {},
   "outputs": [
    {
     "data": {
      "text/plain": [
       "152.67"
      ]
     },
     "execution_count": 27,
     "metadata": {},
     "output_type": "execute_result"
    }
   ],
   "source": [
    "round(avg,2)"
   ]
  },
  {
   "cell_type": "markdown",
   "id": "de4f170b-cd2a-4073-bf5f-6011cc94f9b9",
   "metadata": {},
   "source": [
    "# f format method for print answer"
   ]
  },
  {
   "cell_type": "code",
   "execution_count": 31,
   "id": "286e575d-01e8-4895-802a-92c94e9a19a5",
   "metadata": {},
   "outputs": [
    {
     "name": "stdout",
     "output_type": "stream",
     "text": [
      "The addition of 10 and 20 is= 30\n"
     ]
    }
   ],
   "source": [
    "num1 = 10\n",
    "num2 = 20\n",
    "add = num1 + num2\n",
    "print(f'The addition of {num1} and {num2} is= {add}')\n"
   ]
  },
  {
   "cell_type": "code",
   "execution_count": 38,
   "id": "659e10d6-7325-40ca-8dfb-4ba28394da50",
   "metadata": {},
   "outputs": [
    {
     "name": "stdout",
     "output_type": "stream",
     "text": [
      "hello my name is sarthak rohan patil\n"
     ]
    }
   ],
   "source": [
    "Name = \"sarthak\"\n",
    "Middle_name = \"rohan\"\n",
    "Last_name = \"patil\"\n",
    "print(f'hello my name is {Name} {Middle_name} {Last_name}')"
   ]
  },
  {
   "cell_type": "code",
   "execution_count": 39,
   "id": "0d905d31-e826-485d-aa14-29b043deada4",
   "metadata": {},
   "outputs": [
    {
     "name": "stdout",
     "output_type": "stream",
     "text": [
      "hello my name is Aditya and age is 23 and i am from Pune\n"
     ]
    }
   ],
   "source": [
    "name = 'Aditya'\n",
    "age  = 23\n",
    "city = 'Pune'\n",
    "print(f'hello my name is {name} and age is {age} and i am from {city}')"
   ]
  },
  {
   "cell_type": "code",
   "execution_count": 42,
   "id": "43d35b7a-0e49-44a3-af9c-6218e19ed880",
   "metadata": {},
   "outputs": [
    {
     "name": "stdout",
     "output_type": "stream",
     "text": [
      "346.67\n"
     ]
    }
   ],
   "source": [
    "num1 = 20   # print avg  usinig round function\n",
    "num2 = 30\n",
    "num3 = 990\n",
    "avg = round((num1+num2+num3)/3,2)\n",
    "print(avg)"
   ]
  },
  {
   "cell_type": "code",
   "execution_count": 46,
   "id": "5f50d16e-ad70-4764-8ddf-f6602649d253",
   "metadata": {},
   "outputs": [
    {
     "name": "stdout",
     "output_type": "stream",
     "text": [
      "The addiction of 10 and 20 is= 50\n",
      "The Addiction of 10 and 20 is = 50\n",
      "The addiction of 20 and 30 is =50\n"
     ]
    }
   ],
   "source": [
    "new1 = 10\n",
    "new2 = 20\n",
    "add = num1 + num2\n",
    "print('The addiction of',new1,'and',new2,'is=',add)\n",
    "\n",
    "print('The Addiction of {} and {} is = {}'.format(new1,new2,add))\n",
    "\n",
    "print(f'The addiction of {num1} and {num2} is ={add}') "
   ]
  },
  {
   "cell_type": "markdown",
   "id": "a60b6f04-7b03-4306-920a-adfa23395c5c",
   "metadata": {},
   "source": [
    "# end statement"
   ]
  },
  {
   "cell_type": "code",
   "execution_count": 47,
   "id": "0f740d36-3abf-4d8e-ac0b-f71b64f2d933",
   "metadata": {},
   "outputs": [
    {
     "name": "stdout",
     "output_type": "stream",
     "text": [
      "hello\n"
     ]
    }
   ],
   "source": [
    "print('hello')"
   ]
  },
  {
   "cell_type": "code",
   "execution_count": 48,
   "id": "606627da-8fdc-4dcb-ab55-e11d5de6b366",
   "metadata": {},
   "outputs": [
    {
     "name": "stdout",
     "output_type": "stream",
     "text": [
      "good Morning\n"
     ]
    }
   ],
   "source": [
    "print('good Morning')"
   ]
  },
  {
   "cell_type": "code",
   "execution_count": 52,
   "id": "9047be21-514a-451e-872d-53b0171f1806",
   "metadata": {},
   "outputs": [
    {
     "name": "stdout",
     "output_type": "stream",
     "text": [
      "Hello world good day\n"
     ]
    }
   ],
   "source": [
    "print('Hello',end = ' ')\n",
    "print('world good day')   # end = \" \" the end statement print next line ahead not print new line "
   ]
  },
  {
   "cell_type": "markdown",
   "id": "d9d5f326-2dfb-41bb-a2b5-ea48e5c098db",
   "metadata": {},
   "source": [
    "# seprator"
   ]
  },
  {
   "cell_type": "code",
   "execution_count": 53,
   "id": "823eda23-a538-426e-8efc-d292a455bd35",
   "metadata": {},
   "outputs": [],
   "source": [
    "# here one print statement only we use"
   ]
  },
  {
   "cell_type": "code",
   "execution_count": 54,
   "id": "e127a78c-817a-4836-b099-a22eb645b211",
   "metadata": {},
   "outputs": [
    {
     "name": "stdout",
     "output_type": "stream",
     "text": [
      "hello=====hai=====how are you\n"
     ]
    }
   ],
   "source": [
    "print('hello','hai', 'how are you',sep='=====')"
   ]
  },
  {
   "cell_type": "code",
   "execution_count": 55,
   "id": "6c5c1407-f745-4c66-a022-264c9b3d5f56",
   "metadata": {},
   "outputs": [
    {
     "name": "stdout",
     "output_type": "stream",
     "text": [
      "Hello---Word---function\n"
     ]
    }
   ],
   "source": [
    "print('Hello','Word', 'function' ,sep=\"---\") "
   ]
  },
  {
   "cell_type": "code",
   "execution_count": 57,
   "id": "dd4975af-f953-41a3-ac76-c1fb036aa232",
   "metadata": {},
   "outputs": [
    {
     "name": "stdout",
     "output_type": "stream",
     "text": [
      "1 2 3\n"
     ]
    }
   ],
   "source": [
    "print(1,2,end = \" \")\n",
    "print(3)"
   ]
  },
  {
   "cell_type": "code",
   "execution_count": null,
   "id": "9e118f28-df40-4cdb-bc29-71a2dac86fc2",
   "metadata": {},
   "outputs": [],
   "source": []
  }
 ],
 "metadata": {
  "kernelspec": {
   "display_name": "Python 3 (ipykernel)",
   "language": "python",
   "name": "python3"
  },
  "language_info": {
   "codemirror_mode": {
    "name": "ipython",
    "version": 3
   },
   "file_extension": ".py",
   "mimetype": "text/x-python",
   "name": "python",
   "nbconvert_exporter": "python",
   "pygments_lexer": "ipython3",
   "version": "3.12.4"
  }
 },
 "nbformat": 4,
 "nbformat_minor": 5
}
