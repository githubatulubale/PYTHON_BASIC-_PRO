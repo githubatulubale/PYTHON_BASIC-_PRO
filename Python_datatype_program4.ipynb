{
 "cells": [
  {
   "cell_type": "markdown",
   "id": "00427ea3-5d2a-4343-9d3e-4fa82c877391",
   "metadata": {},
   "source": [
    "# Boolean Data Type & Type casting"
   ]
  },
  {
   "cell_type": "raw",
   "id": "ba286b3b-1f2c-460b-9140-ac62f01a284b",
   "metadata": {},
   "source": [
    "z = real + imaginary"
   ]
  },
  {
   "cell_type": "raw",
   "id": "678fe88b-6e48-4507-8e4a-f3f6fe431c1b",
   "metadata": {},
   "source": [
    " j is a square root of -1"
   ]
  },
  {
   "cell_type": "code",
   "execution_count": 3,
   "id": "b80d6b71-7020-4231-96de-48f5a594ede3",
   "metadata": {},
   "outputs": [
    {
     "name": "stdout",
     "output_type": "stream",
     "text": [
      "(3+4j)\n"
     ]
    }
   ],
   "source": [
    "z = 3 + 4j\n",
    "print(z)"
   ]
  },
  {
   "cell_type": "code",
   "execution_count": 4,
   "id": "299173b9-cec7-4e0d-b246-52a8e5d36ec5",
   "metadata": {},
   "outputs": [
    {
     "name": "stdout",
     "output_type": "stream",
     "text": [
      "3.0\n"
     ]
    }
   ],
   "source": [
    "z = 3 +4j\n",
    "print(z.real)"
   ]
  },
  {
   "cell_type": "code",
   "execution_count": 5,
   "id": "5e4a681c-a32e-4d55-90db-626a39c51fdf",
   "metadata": {},
   "outputs": [
    {
     "name": "stdout",
     "output_type": "stream",
     "text": [
      "4.0\n"
     ]
    }
   ],
   "source": [
    "print(z.imag)"
   ]
  },
  {
   "cell_type": "code",
   "execution_count": 12,
   "id": "af7bef9f-a44a-46a2-a3e0-8268d66c50d8",
   "metadata": {},
   "outputs": [],
   "source": [
    "a = 3 + 4j\n",
    "b = 1 + 2j"
   ]
  },
  {
   "cell_type": "code",
   "execution_count": 7,
   "id": "2d216a47-5525-4966-ad0b-cd1fea2b5cd5",
   "metadata": {},
   "outputs": [
    {
     "name": "stdout",
     "output_type": "stream",
     "text": [
      "(4+6j)\n"
     ]
    }
   ],
   "source": [
    "print(a+b)"
   ]
  },
  {
   "cell_type": "code",
   "execution_count": 8,
   "id": "8b021834-59ec-4b88-bbff-a2120b66fb7a",
   "metadata": {},
   "outputs": [
    {
     "name": "stdout",
     "output_type": "stream",
     "text": [
      "(2+2j)\n"
     ]
    }
   ],
   "source": [
    "print(a-b)"
   ]
  },
  {
   "cell_type": "code",
   "execution_count": 9,
   "id": "95a938d0-d29d-42b5-bb6b-2279df7e2f2c",
   "metadata": {},
   "outputs": [
    {
     "name": "stdout",
     "output_type": "stream",
     "text": [
      "(-5+10j)\n"
     ]
    }
   ],
   "source": [
    "print(a * b)"
   ]
  },
  {
   "cell_type": "code",
   "execution_count": 13,
   "id": "c77455d8-a2c3-4e2d-8def-e9defc8f038e",
   "metadata": {},
   "outputs": [
    {
     "name": "stdout",
     "output_type": "stream",
     "text": [
      "(2.2-0.4j)\n"
     ]
    }
   ],
   "source": [
    "print(a/b)"
   ]
  },
  {
   "cell_type": "code",
   "execution_count": 14,
   "id": "3e8fa393-dc6e-44a9-af99-3f815609c457",
   "metadata": {},
   "outputs": [],
   "source": [
    "# using Built-in dunction"
   ]
  },
  {
   "cell_type": "code",
   "execution_count": 27,
   "id": "5c8f9e06-0da4-4414-9e1e-d46d4f729eb4",
   "metadata": {},
   "outputs": [
    {
     "name": "stdout",
     "output_type": "stream",
     "text": [
      "3.605551275463989\n"
     ]
    }
   ],
   "source": [
    "z = 3 + 2j\n",
    "print(abs(z))  # (return the magnitude of complex number)"
   ]
  },
  {
   "cell_type": "code",
   "execution_count": 28,
   "id": "6dab95a3-0c0d-48b6-8435-1dcb46efa296",
   "metadata": {},
   "outputs": [
    {
     "data": {
      "text/plain": [
       "300.0"
      ]
     },
     "execution_count": 28,
     "metadata": {},
     "output_type": "execute_result"
    }
   ],
   "source": [
    "f4 = 3e2  # value of e is 10 (10*10)*3\n",
    "f4"
   ]
  },
  {
   "cell_type": "code",
   "execution_count": 29,
   "id": "2152040f-4aee-44f8-8a4e-63d3d7d1010b",
   "metadata": {},
   "outputs": [
    {
     "name": "stdout",
     "output_type": "stream",
     "text": [
      "300000.0\n"
     ]
    }
   ],
   "source": [
    "f5 = 3e5\n",
    "print(f5)"
   ]
  },
  {
   "cell_type": "code",
   "execution_count": 30,
   "id": "12bf6a4e-491f-4404-a9d4-1f39c1b3674b",
   "metadata": {},
   "outputs": [
    {
     "name": "stdout",
     "output_type": "stream",
     "text": [
      "1\n"
     ]
    }
   ],
   "source": [
    "b = True\n",
    "c = False\n",
    "print(b+c)"
   ]
  },
  {
   "cell_type": "markdown",
   "id": "d75b899c-f52d-42b5-bd69-275bce17c63f",
   "metadata": {},
   "source": [
    "# Type casting"
   ]
  },
  {
   "cell_type": "code",
   "execution_count": 33,
   "id": "09ba1af3-74d5-4c9f-baaf-aef945b2b286",
   "metadata": {},
   "outputs": [],
   "source": [
    "# we can perform one  data type to other data type"
   ]
  },
  {
   "cell_type": "code",
   "execution_count": 35,
   "id": "59f2d31a-8d41-4da9-a668-2e326729db3d",
   "metadata": {},
   "outputs": [],
   "source": [
    "# fam() in this function we have 0 parameter\n",
    "# fam(1,2,3) in this fun we 3 parametr and 3 argument"
   ]
  },
  {
   "cell_type": "code",
   "execution_count": 36,
   "id": "5ed033b4-5873-4ee1-9bd3-ca2d8ac29156",
   "metadata": {},
   "outputs": [
    {
     "data": {
      "text/plain": [
       "2"
      ]
     },
     "execution_count": 36,
     "metadata": {},
     "output_type": "execute_result"
    }
   ],
   "source": [
    "int(2.3)   #convert float to int"
   ]
  },
  {
   "cell_type": "code",
   "execution_count": 37,
   "id": "225e3d4d-3966-4992-a6b1-d8f7b46c8d2b",
   "metadata": {},
   "outputs": [
    {
     "ename": "TypeError",
     "evalue": "'float' object cannot be interpreted as an integer",
     "output_type": "error",
     "traceback": [
      "\u001b[1;31m---------------------------------------------------------------------------\u001b[0m",
      "\u001b[1;31mTypeError\u001b[0m                                 Traceback (most recent call last)",
      "Cell \u001b[1;32mIn[37], line 1\u001b[0m\n\u001b[1;32m----> 1\u001b[0m \u001b[38;5;28;43mint\u001b[39;49m\u001b[43m(\u001b[49m\u001b[38;5;241;43m2.3\u001b[39;49m\u001b[43m \u001b[49m\u001b[43m,\u001b[49m\u001b[38;5;241;43m4.5\u001b[39;49m\u001b[43m)\u001b[49m  \u001b[38;5;66;03m# convert \u001b[39;00m\n",
      "\u001b[1;31mTypeError\u001b[0m: 'float' object cannot be interpreted as an integer"
     ]
    }
   ],
   "source": [
    "int(2.3 ,4.5)  #  we cant convert multiple value one time "
   ]
  },
  {
   "cell_type": "code",
   "execution_count": 38,
   "id": "f5c3630b-e5ff-4229-9be4-429eb9e9b79d",
   "metadata": {},
   "outputs": [
    {
     "data": {
      "text/plain": [
       "1"
      ]
     },
     "execution_count": 38,
     "metadata": {},
     "output_type": "execute_result"
    }
   ],
   "source": [
    "int(True)"
   ]
  },
  {
   "cell_type": "code",
   "execution_count": 40,
   "id": "a331a36c-275b-4715-96d3-1571bfa1d521",
   "metadata": {},
   "outputs": [
    {
     "ename": "ValueError",
     "evalue": "invalid literal for int() with base 10: 'ten'",
     "output_type": "error",
     "traceback": [
      "\u001b[1;31m---------------------------------------------------------------------------\u001b[0m",
      "\u001b[1;31mValueError\u001b[0m                                Traceback (most recent call last)",
      "Cell \u001b[1;32mIn[40], line 1\u001b[0m\n\u001b[1;32m----> 1\u001b[0m \u001b[38;5;28;43mint\u001b[39;49m\u001b[43m(\u001b[49m\u001b[38;5;124;43m\"\u001b[39;49m\u001b[38;5;124;43mten\u001b[39;49m\u001b[38;5;124;43m\"\u001b[39;49m\u001b[43m)\u001b[49m  \u001b[38;5;66;03m# we cant convert string to int\u001b[39;00m\n",
      "\u001b[1;31mValueError\u001b[0m: invalid literal for int() with base 10: 'ten'"
     ]
    }
   ],
   "source": [
    "int(\"ten\")  # we cant convert string to int"
   ]
  },
  {
   "cell_type": "code",
   "execution_count": 42,
   "id": "5ceac351-ad0f-4aa9-920a-27baf18ff70d",
   "metadata": {},
   "outputs": [
    {
     "ename": "TypeError",
     "evalue": "int() argument must be a string, a bytes-like object or a real number, not 'complex'",
     "output_type": "error",
     "traceback": [
      "\u001b[1;31m---------------------------------------------------------------------------\u001b[0m",
      "\u001b[1;31mTypeError\u001b[0m                                 Traceback (most recent call last)",
      "Cell \u001b[1;32mIn[42], line 1\u001b[0m\n\u001b[1;32m----> 1\u001b[0m \u001b[38;5;28;43mint\u001b[39;49m\u001b[43m(\u001b[49m\u001b[38;5;241;43m1\u001b[39;49m\u001b[38;5;241;43m+\u001b[39;49m\u001b[38;5;241;43m4\u001b[39;49m\u001b[43mj\u001b[49m\u001b[43m)\u001b[49m  \u001b[38;5;66;03m# we cant convert complex to int\u001b[39;00m\n",
      "\u001b[1;31mTypeError\u001b[0m: int() argument must be a string, a bytes-like object or a real number, not 'complex'"
     ]
    }
   ],
   "source": [
    "int(1+4j)  # we cant convert complex to int"
   ]
  },
  {
   "cell_type": "code",
   "execution_count": 43,
   "id": "85ba451d-3727-4a64-9ede-65486d9eab39",
   "metadata": {},
   "outputs": [
    {
     "data": {
      "text/plain": [
       "30"
      ]
     },
     "execution_count": 43,
     "metadata": {},
     "output_type": "execute_result"
    }
   ],
   "source": [
    "int(\"30\")"
   ]
  },
  {
   "cell_type": "code",
   "execution_count": 44,
   "id": "da8d5801-a060-45ba-9971-425dc0568344",
   "metadata": {},
   "outputs": [],
   "source": [
    "# convert any value to float"
   ]
  },
  {
   "cell_type": "code",
   "execution_count": 45,
   "id": "b28b8079-43ae-44ae-9a86-b645a4e41f06",
   "metadata": {},
   "outputs": [
    {
     "data": {
      "text/plain": [
       "10.0"
      ]
     },
     "execution_count": 45,
     "metadata": {},
     "output_type": "execute_result"
    }
   ],
   "source": [
    "float(10)"
   ]
  },
  {
   "cell_type": "code",
   "execution_count": 46,
   "id": "11c70ea3-720b-418c-ae8f-2d20c8b942f8",
   "metadata": {},
   "outputs": [
    {
     "data": {
      "text/plain": [
       "1.0"
      ]
     },
     "execution_count": 46,
     "metadata": {},
     "output_type": "execute_result"
    }
   ],
   "source": [
    "float(True)"
   ]
  },
  {
   "cell_type": "code",
   "execution_count": 47,
   "id": "10084740-5e32-493a-8ba0-9102d41df50e",
   "metadata": {},
   "outputs": [
    {
     "data": {
      "text/plain": [
       "78.0"
      ]
     },
     "execution_count": 47,
     "metadata": {},
     "output_type": "execute_result"
    }
   ],
   "source": [
    "float(\"78\")"
   ]
  },
  {
   "cell_type": "code",
   "execution_count": 48,
   "id": "db734b2d-9d4c-4869-94c9-84eab54452a4",
   "metadata": {},
   "outputs": [
    {
     "ename": "ValueError",
     "evalue": "could not convert string to float: 'Atul'",
     "output_type": "error",
     "traceback": [
      "\u001b[1;31m---------------------------------------------------------------------------\u001b[0m",
      "\u001b[1;31mValueError\u001b[0m                                Traceback (most recent call last)",
      "Cell \u001b[1;32mIn[48], line 1\u001b[0m\n\u001b[1;32m----> 1\u001b[0m \u001b[38;5;28;43mfloat\u001b[39;49m\u001b[43m(\u001b[49m\u001b[38;5;124;43m\"\u001b[39;49m\u001b[38;5;124;43mAtul\u001b[39;49m\u001b[38;5;124;43m\"\u001b[39;49m\u001b[43m)\u001b[49m\n",
      "\u001b[1;31mValueError\u001b[0m: could not convert string to float: 'Atul'"
     ]
    }
   ],
   "source": [
    "float(\"Atul\")  # we cant convert string to float"
   ]
  },
  {
   "cell_type": "code",
   "execution_count": 50,
   "id": "3a325a75-78ff-42a2-8d96-4ac734c97dff",
   "metadata": {},
   "outputs": [
    {
     "ename": "TypeError",
     "evalue": "float() argument must be a string or a real number, not 'complex'",
     "output_type": "error",
     "traceback": [
      "\u001b[1;31m---------------------------------------------------------------------------\u001b[0m",
      "\u001b[1;31mTypeError\u001b[0m                                 Traceback (most recent call last)",
      "Cell \u001b[1;32mIn[50], line 1\u001b[0m\n\u001b[1;32m----> 1\u001b[0m \u001b[38;5;28;43mfloat\u001b[39;49m\u001b[43m(\u001b[49m\u001b[38;5;241;43m1\u001b[39;49m\u001b[38;5;241;43m+\u001b[39;49m\u001b[38;5;241;43m3\u001b[39;49m\u001b[43mj\u001b[49m\u001b[43m)\u001b[49m  \u001b[38;5;66;03m# we cant perform complex to float\u001b[39;00m\n",
      "\u001b[1;31mTypeError\u001b[0m: float() argument must be a string or a real number, not 'complex'"
     ]
    }
   ],
   "source": [
    "float(1+3j)  # we cant perform complex to float"
   ]
  },
  {
   "cell_type": "code",
   "execution_count": 51,
   "id": "c2309538-666f-423a-8019-b1832e5dc308",
   "metadata": {},
   "outputs": [],
   "source": [
    "# boolean"
   ]
  },
  {
   "cell_type": "code",
   "execution_count": 59,
   "id": "e546ac70-96df-4fa6-add3-c338d9c4e4ee",
   "metadata": {},
   "outputs": [
    {
     "name": "stdout",
     "output_type": "stream",
     "text": [
      "True\n",
      "True\n",
      "True\n",
      "True\n",
      "True\n",
      "False\n",
      "True\n"
     ]
    }
   ],
   "source": [
    "print(bool(9)) # int to bool\n",
    "print(bool(45.9)) # float to bool\n",
    "print(bool(\"6\"))  # string number to bool\n",
    "print(bool(9+9j))  # complex to int\n",
    "print(bool(\"Hello\"))  # string to bool\n",
    "print(bool(0))  # 0 print will false\n",
    "print(bool(1))  # 1 print will true"
   ]
  },
  {
   "cell_type": "code",
   "execution_count": 60,
   "id": "f5bbd759-929c-41cc-8e3e-2199334556c4",
   "metadata": {},
   "outputs": [],
   "source": [
    "# str"
   ]
  },
  {
   "cell_type": "code",
   "execution_count": 66,
   "id": "23819128-9b5f-4886-805a-e3dbce2ef8b2",
   "metadata": {},
   "outputs": [
    {
     "name": "stdout",
     "output_type": "stream",
     "text": [
      "6\n",
      "2.2\n",
      "(2+9j)\n",
      "True\n"
     ]
    }
   ],
   "source": [
    "print(str(6)) # we can convert int to str\n",
    "print(str(2.2)) # we can perform float to int\n",
    "print(str((2+9j))) # we can perform complex to string\n",
    "print(str(True))  # we can convert bool to str"
   ]
  }
 ],
 "metadata": {
  "kernelspec": {
   "display_name": "Python 3 (ipykernel)",
   "language": "python",
   "name": "python3"
  },
  "language_info": {
   "codemirror_mode": {
    "name": "ipython",
    "version": 3
   },
   "file_extension": ".py",
   "mimetype": "text/x-python",
   "name": "python",
   "nbconvert_exporter": "python",
   "pygments_lexer": "ipython3",
   "version": "3.12.4"
  }
 },
 "nbformat": 4,
 "nbformat_minor": 5
}
