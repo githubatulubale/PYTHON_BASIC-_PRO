{
 "cells": [
  {
   "cell_type": "markdown",
   "id": "ba081183-f2a5-445f-bb3a-bc9ee74f28fc",
   "metadata": {},
   "source": [
    "# Python Keyword"
   ]
  },
  {
   "cell_type": "code",
   "execution_count": 1,
   "id": "6e63e6f4-4e31-4b08-a52f-388d75ca1d99",
   "metadata": {},
   "outputs": [],
   "source": [
    "import keyword"
   ]
  },
  {
   "cell_type": "code",
   "execution_count": 2,
   "id": "9b1e0130-cb53-4c55-97f6-b4060785a9be",
   "metadata": {},
   "outputs": [
    {
     "name": "stdout",
     "output_type": "stream",
     "text": [
      "['False', 'None', 'True', 'and', 'as', 'assert', 'async', 'await', 'break', 'class', 'continue', 'def', 'del', 'elif', 'else', 'except', 'finally', 'for', 'from', 'global', 'if', 'import', 'in', 'is', 'lambda', 'nonlocal', 'not', 'or', 'pass', 'raise', 'return', 'try', 'while', 'with', 'yield']\n"
     ]
    }
   ],
   "source": [
    "print(keyword.kwlist)"
   ]
  },
  {
   "cell_type": "code",
   "execution_count": 3,
   "id": "b611bb48-dc2b-4194-8910-754288a32089",
   "metadata": {},
   "outputs": [
    {
     "data": {
      "text/plain": [
       "35"
      ]
     },
     "execution_count": 3,
     "metadata": {},
     "output_type": "execute_result"
    }
   ],
   "source": [
    "len(keyword.kwlist)"
   ]
  },
  {
   "cell_type": "markdown",
   "id": "53cf8323-1cb7-49b5-9bc8-f16fc10de8d1",
   "metadata": {},
   "source": [
    "# identifiers"
   ]
  },
  {
   "cell_type": "code",
   "execution_count": 4,
   "id": "e6d3391d-029c-4c15-9542-2585a2efd493",
   "metadata": {},
   "outputs": [
    {
     "ename": "SyntaxError",
     "evalue": "invalid decimal literal (2907314812.py, line 1)",
     "output_type": "error",
     "traceback": [
      "\u001b[1;36m  Cell \u001b[1;32mIn[4], line 1\u001b[1;36m\u001b[0m\n\u001b[1;33m    1ve = 10\u001b[0m\n\u001b[1;37m    ^\u001b[0m\n\u001b[1;31mSyntaxError\u001b[0m\u001b[1;31m:\u001b[0m invalid decimal literal\n"
     ]
    }
   ],
   "source": [
    "1ve = 10  #we cant start variable name as a number\n",
    "print(1ve)"
   ]
  },
  {
   "cell_type": "code",
   "execution_count": 5,
   "id": "fb5a465e-fbe6-4a99-a49f-ed0930a5fc8f",
   "metadata": {},
   "outputs": [
    {
     "ename": "SyntaxError",
     "evalue": "invalid syntax (2419493483.py, line 1)",
     "output_type": "error",
     "traceback": [
      "\u001b[1;36m  Cell \u001b[1;32mIn[5], line 1\u001b[1;36m\u001b[0m\n\u001b[1;33m    val@ = 23 # identifier cant start with special symbol\u001b[0m\n\u001b[1;37m         ^\u001b[0m\n\u001b[1;31mSyntaxError\u001b[0m\u001b[1;31m:\u001b[0m invalid syntax\n"
     ]
    }
   ],
   "source": [
    "val@ = 23 # identifier cant start with special symbol\n",
    "print(val@)"
   ]
  },
  {
   "cell_type": "code",
   "execution_count": 7,
   "id": "82f0358a-e6f6-46d4-ac50-46c8eb562f5d",
   "metadata": {},
   "outputs": [
    {
     "ename": "SyntaxError",
     "evalue": "invalid syntax (1652631764.py, line 1)",
     "output_type": "error",
     "traceback": [
      "\u001b[1;36m  Cell \u001b[1;32mIn[7], line 1\u001b[1;36m\u001b[0m\n\u001b[1;33m    import = 45 # variable cant use as identifier\u001b[0m\n\u001b[1;37m           ^\u001b[0m\n\u001b[1;31mSyntaxError\u001b[0m\u001b[1;31m:\u001b[0m invalid syntax\n"
     ]
    }
   ],
   "source": [
    "import = 45 # variable cant use as identifier\n",
    "print(import)"
   ]
  },
  {
   "cell_type": "code",
   "execution_count": 8,
   "id": "122d3751-21a5-4be2-8e96-219992cf74bc",
   "metadata": {},
   "outputs": [
    {
     "name": "stdout",
     "output_type": "stream",
     "text": [
      "10\n"
     ]
    }
   ],
   "source": [
    "val2 = 10\n",
    "print(val2)"
   ]
  },
  {
   "cell_type": "code",
   "execution_count": 9,
   "id": "585b035f-cce6-4e6e-ac10-ac8b5a21bf99",
   "metadata": {},
   "outputs": [
    {
     "name": "stdout",
     "output_type": "stream",
     "text": [
      "80\n"
     ]
    }
   ],
   "source": [
    "val_ = 80\n",
    "print(val_)"
   ]
  },
  {
   "cell_type": "markdown",
   "id": "4e2aec9a-19fd-4274-a795-f0d5c8e97159",
   "metadata": {},
   "source": [
    "# comments"
   ]
  },
  {
   "cell_type": "code",
   "execution_count": 10,
   "id": "2d504ef5-7faf-4bfb-9a92-e86fa106a6cd",
   "metadata": {},
   "outputs": [
    {
     "name": "stdout",
     "output_type": "stream",
     "text": [
      "10\n"
     ]
    }
   ],
   "source": [
    "val1 = 10  # single line comment\n",
    "print(val1)"
   ]
  },
  {
   "cell_type": "code",
   "execution_count": 11,
   "id": "2271472b-c07a-411d-9600-53bb48ac46a3",
   "metadata": {},
   "outputs": [
    {
     "name": "stdout",
     "output_type": "stream",
     "text": [
      "python\n"
     ]
    }
   ],
   "source": [
    "'''\n",
    "multiple \n",
    "line \n",
    "comment'''\n",
    "print(\"python\")"
   ]
  },
  {
   "cell_type": "markdown",
   "id": "c64e8b92-48a4-4adc-a23f-91591cd0ad95",
   "metadata": {},
   "source": [
    "# statement"
   ]
  },
  {
   "cell_type": "code",
   "execution_count": 13,
   "id": "6d6f0dfd-fde4-4816-ad00-32b0f505e1c4",
   "metadata": {},
   "outputs": [
    {
     "name": "stdout",
     "output_type": "stream",
     "text": [
      "20\n",
      "<class 'int'>\n",
      "140736708346776\n"
     ]
    }
   ],
   "source": [
    "p  = 20\n",
    "q  = 45\n",
    "r  = 80\n",
    "print(p)   # print only p \n",
    "print(type(q))  # print only type\n",
    "print(id(r))    # print only location "
   ]
  },
  {
   "cell_type": "code",
   "execution_count": 14,
   "id": "1323ffd1-cd45-488c-88e9-87e25fd15701",
   "metadata": {},
   "outputs": [
    {
     "name": "stdout",
     "output_type": "stream",
     "text": [
      "30\n"
     ]
    }
   ],
   "source": [
    "p  = 20        # variable overwriting\n",
    "p  = p + 10\n",
    "print(p)"
   ]
  },
  {
   "cell_type": "code",
   "execution_count": 16,
   "id": "8db9f190-7627-4d0e-93df-13be52056894",
   "metadata": {},
   "outputs": [
    {
     "name": "stdout",
     "output_type": "stream",
     "text": [
      "10\n",
      "78.9\n",
      "Hello World\n"
     ]
    }
   ],
   "source": [
    "int_variable = 10  # integer variable\n",
    "float_variable = 78.90  # float variable\n",
    "str_var = \"Hello World\"  # string variable\n",
    "\n",
    "print(int_variable)\n",
    "print(float_variable)\n",
    "print(str_var)"
   ]
  },
  {
   "cell_type": "code",
   "execution_count": 17,
   "id": "e4c53d75-4d99-43e0-9ea9-1c76953deb32",
   "metadata": {},
   "outputs": [
    {
     "name": "stdout",
     "output_type": "stream",
     "text": [
      "10\n",
      "2.57\n",
      "python Language\n"
     ]
    }
   ],
   "source": [
    "intvar ,  floatvar, stringvar = 10, 2.57,\"python Language\"  # we can define the variable in one line\n",
    "print(intvar)\n",
    "print(floatvar)\n",
    "print(stringvar)"
   ]
  },
  {
   "cell_type": "code",
   "execution_count": 18,
   "id": "bf314576-7a82-4a39-b75c-b3385b347446",
   "metadata": {},
   "outputs": [
    {
     "name": "stdout",
     "output_type": "stream",
     "text": [
      "55\n"
     ]
    }
   ],
   "source": [
    "p1 = p2= p3= p4  = 55  # all variable pointing to same value\n",
    "print(p3)"
   ]
  },
  {
   "cell_type": "markdown",
   "id": "f1516198-97fa-4ebf-83a9-9bae508e91ac",
   "metadata": {},
   "source": [
    "# Data Types"
   ]
  },
  {
   "cell_type": "markdown",
   "id": "49f050d6-25e4-42d2-b426-e8bd2adc4f68",
   "metadata": {},
   "source": [
    "# Numeric"
   ]
  },
  {
   "cell_type": "code",
   "execution_count": 19,
   "id": "a0cdb12d-8995-45a6-9aa6-21c9b04b7802",
   "metadata": {},
   "outputs": [
    {
     "name": "stdout",
     "output_type": "stream",
     "text": [
      "10\n"
     ]
    }
   ],
   "source": [
    "var1 = 10   # integer data type\n",
    "print(var1)"
   ]
  },
  {
   "cell_type": "code",
   "execution_count": 20,
   "id": "6266034d-645a-48b9-aecb-22f12d5f8bdf",
   "metadata": {},
   "outputs": [
    {
     "name": "stdout",
     "output_type": "stream",
     "text": [
      "<class 'int'>\n"
     ]
    }
   ],
   "source": [
    "print(type(var1))  # type of object"
   ]
  },
  {
   "cell_type": "code",
   "execution_count": 24,
   "id": "22693629-5e0f-4aef-9bf9-f86c03569efa",
   "metadata": {},
   "outputs": [],
   "source": [
    "import sys"
   ]
  },
  {
   "cell_type": "code",
   "execution_count": 29,
   "id": "2a75033f-e562-4794-be3b-b02959995f00",
   "metadata": {},
   "outputs": [
    {
     "name": "stdout",
     "output_type": "stream",
     "text": [
      "24\n"
     ]
    }
   ],
   "source": [
    "var2 = 10.34\n",
    "print(sys.getsizeof(var2))  # size of float object in bytes"
   ]
  },
  {
   "cell_type": "code",
   "execution_count": 34,
   "id": "a07a62df-f985-4975-b74c-4b4eb4c8257b",
   "metadata": {},
   "outputs": [
    {
     "name": "stdout",
     "output_type": "stream",
     "text": [
      "90 is integer? True\n",
      "10  is float? False\n"
     ]
    }
   ],
   "source": [
    "val3 =  90\n",
    "print(val3, \"is integer?\" ,isinstance(val3, int))\n",
    "print(val2, \" is float?\", isinstance(val2, float))  # isintance function used for check"
   ]
  },
  {
   "cell_type": "code",
   "execution_count": 37,
   "id": "e29a5fc0-1074-4341-8b0b-afa4be39d788",
   "metadata": {},
   "outputs": [
    {
     "name": "stdout",
     "output_type": "stream",
     "text": [
      "(90+80j)\n",
      "<class 'complex'>\n",
      "32\n",
      "(90+80j) is complex ? True\n"
     ]
    }
   ],
   "source": [
    "val4 = 90 + 80j\n",
    "print(val4)\n",
    "print(type(val4))  #type of complex value\n",
    "print(sys.getsizeof(val4)) # size of object in bytes\n",
    "print(val4,\"is complex ?\", isinstance(val4,complex))"
   ]
  },
  {
   "cell_type": "code",
   "execution_count": 38,
   "id": "c1948140-5bf8-4733-a336-a7309afc1ed0",
   "metadata": {},
   "outputs": [
    {
     "data": {
      "text/plain": [
       "28"
      ]
     },
     "execution_count": 38,
     "metadata": {},
     "output_type": "execute_result"
    }
   ],
   "source": [
    "sys.getsizeof(int())"
   ]
  },
  {
   "cell_type": "code",
   "execution_count": 39,
   "id": "2461998a-2938-404a-94f0-f6ea9c76f26a",
   "metadata": {},
   "outputs": [
    {
     "data": {
      "text/plain": [
       "24"
      ]
     },
     "execution_count": 39,
     "metadata": {},
     "output_type": "execute_result"
    }
   ],
   "source": [
    "sys.getsizeof(float())"
   ]
  },
  {
   "cell_type": "code",
   "execution_count": 42,
   "id": "35f8fc90-480f-4043-a1ee-372dfbcbadb9",
   "metadata": {},
   "outputs": [
    {
     "data": {
      "text/plain": [
       "32"
      ]
     },
     "execution_count": 42,
     "metadata": {},
     "output_type": "execute_result"
    }
   ],
   "source": [
    "sys.getsizeof(complex())"
   ]
  },
  {
   "cell_type": "markdown",
   "id": "7b6c2c19-9364-4267-9682-b8369a09201d",
   "metadata": {},
   "source": [
    "# Boolean"
   ]
  },
  {
   "cell_type": "raw",
   "id": "58a65663-5004-4889-8d48-46d2aad318df",
   "metadata": {},
   "source": [
    "# Boolean data type can have only two possible values true or false"
   ]
  },
  {
   "cell_type": "code",
   "execution_count": 46,
   "id": "6fbc60e4-531a-484e-8f2a-d82f00157d70",
   "metadata": {},
   "outputs": [],
   "source": [
    "bool1 = True"
   ]
  },
  {
   "cell_type": "code",
   "execution_count": 47,
   "id": "7f70061b-13d7-4f57-a56d-2ebc4b9007b4",
   "metadata": {},
   "outputs": [],
   "source": [
    "bool2 = False"
   ]
  },
  {
   "cell_type": "code",
   "execution_count": 48,
   "id": "810090a5-e29d-473a-b044-baad594fb114",
   "metadata": {},
   "outputs": [
    {
     "name": "stdout",
     "output_type": "stream",
     "text": [
      "<class 'bool'>\n"
     ]
    }
   ],
   "source": [
    "print(type(bool1))"
   ]
  },
  {
   "cell_type": "code",
   "execution_count": 49,
   "id": "9d93b538-4a89-497c-bd2e-81f6608ba96d",
   "metadata": {},
   "outputs": [
    {
     "name": "stdout",
     "output_type": "stream",
     "text": [
      "<class 'bool'>\n"
     ]
    }
   ],
   "source": [
    "print(type(bool2))"
   ]
  },
  {
   "cell_type": "code",
   "execution_count": 50,
   "id": "50c79788-0717-440f-a65c-cdab7af76002",
   "metadata": {},
   "outputs": [
    {
     "data": {
      "text/plain": [
       "False"
      ]
     },
     "execution_count": 50,
     "metadata": {},
     "output_type": "execute_result"
    }
   ],
   "source": [
    "bool(0)"
   ]
  },
  {
   "cell_type": "code",
   "execution_count": 51,
   "id": "9b698d42-3cbb-491a-8c99-e9f293c8b45a",
   "metadata": {},
   "outputs": [
    {
     "data": {
      "text/plain": [
       "True"
      ]
     },
     "execution_count": 51,
     "metadata": {},
     "output_type": "execute_result"
    }
   ],
   "source": [
    "bool(1)"
   ]
  },
  {
   "cell_type": "code",
   "execution_count": 52,
   "id": "8a083b18-5880-42e1-9292-f0108bc9f65e",
   "metadata": {},
   "outputs": [
    {
     "data": {
      "text/plain": [
       "False"
      ]
     },
     "execution_count": 52,
     "metadata": {},
     "output_type": "execute_result"
    }
   ],
   "source": [
    "bool(None)"
   ]
  },
  {
   "cell_type": "code",
   "execution_count": 53,
   "id": "51e8f85e-ed46-4e18-9e5c-d054ccddfd9a",
   "metadata": {},
   "outputs": [
    {
     "data": {
      "text/plain": [
       "False"
      ]
     },
     "execution_count": 53,
     "metadata": {},
     "output_type": "execute_result"
    }
   ],
   "source": [
    "bool(False)"
   ]
  },
  {
   "cell_type": "markdown",
   "id": "58499caf-0453-4bad-9577-28db4dfb8694",
   "metadata": {},
   "source": [
    "# string"
   ]
  },
  {
   "cell_type": "markdown",
   "id": "b83321e4-2288-4977-a6ae-8b00d4793e5a",
   "metadata": {},
   "source": [
    "# string creation"
   ]
  },
  {
   "cell_type": "code",
   "execution_count": 67,
   "id": "73a5f4bf-2bb9-47b9-a7b9-71d78c4344c7",
   "metadata": {},
   "outputs": [
    {
     "name": "stdout",
     "output_type": "stream",
     "text": [
      "Hello world\n"
     ]
    }
   ],
   "source": [
    "str1 = \"Hello world\"\n",
    "print(str1)"
   ]
  },
  {
   "cell_type": "code",
   "execution_count": 56,
   "id": "a60699ed-0f17-4032-b753-3f0c874d9473",
   "metadata": {},
   "outputs": [
    {
     "name": "stdout",
     "output_type": "stream",
     "text": [
      "Hello World\n"
     ]
    }
   ],
   "source": [
    "mystr = 'Hello World' # define string using single quotes\n",
    "print(mystr)"
   ]
  },
  {
   "cell_type": "code",
   "execution_count": 57,
   "id": "cd1e83f8-0339-4852-989e-bf4183c66ca1",
   "metadata": {},
   "outputs": [
    {
     "name": "stdout",
     "output_type": "stream",
     "text": [
      "Hello Python\n"
     ]
    }
   ],
   "source": [
    "mystr2 = \"Hello Python\"  # define string using double quote\n",
    "print(mystr2)"
   ]
  },
  {
   "cell_type": "code",
   "execution_count": 58,
   "id": "de80417c-eb0b-4c0b-bd3a-70a765e4ab68",
   "metadata": {},
   "outputs": [
    {
     "name": "stdout",
     "output_type": "stream",
     "text": [
      "Hello\n",
      "            world\n"
     ]
    }
   ],
   "source": [
    "mystr4 = '''Hello\n",
    "            world'''  # define string using triple quotes\n",
    "print(mystr4)"
   ]
  },
  {
   "cell_type": "code",
   "execution_count": 60,
   "id": "26470320-ae4e-4cab-a156-96bb961de162",
   "metadata": {},
   "outputs": [
    {
     "name": "stdout",
     "output_type": "stream",
     "text": [
      "Happy Monday everyone \n"
     ]
    }
   ],
   "source": [
    "mystr5 = ( 'Happy '\n",
    "           'Monday '\n",
    "           'everyone ')\n",
    "print(mystr5)"
   ]
  },
  {
   "cell_type": "code",
   "execution_count": 64,
   "id": "19fbc31a-c835-4911-9b41-94d6f4366b68",
   "metadata": {},
   "outputs": [
    {
     "name": "stdout",
     "output_type": "stream",
     "text": [
      "waw waw waw waw waw \n"
     ]
    }
   ],
   "source": [
    "mystr6 = 'waw '\n",
    "mystr6 = mystr6 * 5\n",
    "print(mystr6)"
   ]
  },
  {
   "cell_type": "code",
   "execution_count": 66,
   "id": "cd224526-dc55-4c5b-9658-8d0f12861fdb",
   "metadata": {},
   "outputs": [
    {
     "name": "stdout",
     "output_type": "stream",
     "text": [
      "20\n"
     ]
    }
   ],
   "source": [
    "print(len(mystr6))  # length of string they count the letter and space"
   ]
  },
  {
   "cell_type": "code",
   "execution_count": 68,
   "id": "0898d6e6-dc8a-4432-b553-04c6196b488e",
   "metadata": {},
   "outputs": [],
   "source": [
    "================string Indexing=================="
   ]
  },
  {
   "cell_type": "code",
   "execution_count": 69,
   "id": "e0898705-6fe6-43af-b0ba-c05ec84874c8",
   "metadata": {},
   "outputs": [
    {
     "name": "stdout",
     "output_type": "stream",
     "text": [
      "Hello World\n"
     ]
    }
   ],
   "source": [
    "string = \"Hello World\"\n",
    "print(string)"
   ]
  },
  {
   "cell_type": "code",
   "execution_count": 70,
   "id": "95d47d02-0101-40dd-9c32-45999cb40dfe",
   "metadata": {},
   "outputs": [
    {
     "data": {
      "text/plain": [
       "'H'"
      ]
     },
     "execution_count": 70,
     "metadata": {},
     "output_type": "execute_result"
    }
   ],
   "source": [
    "string[0]"
   ]
  },
  {
   "cell_type": "code",
   "execution_count": 72,
   "id": "c9735307-ba3c-499d-a6d0-5883e6d5b888",
   "metadata": {},
   "outputs": [
    {
     "data": {
      "text/plain": [
       "'d'"
      ]
     },
     "execution_count": 72,
     "metadata": {},
     "output_type": "execute_result"
    }
   ],
   "source": [
    "string[len(string)-1]    # length of string"
   ]
  },
  {
   "cell_type": "code",
   "execution_count": 73,
   "id": "51e308ad-9849-46c3-b4c7-da96c30d3809",
   "metadata": {},
   "outputs": [
    {
     "data": {
      "text/plain": [
       "'W'"
      ]
     },
     "execution_count": 73,
     "metadata": {},
     "output_type": "execute_result"
    }
   ],
   "source": [
    "string[6]"
   ]
  },
  {
   "cell_type": "code",
   "execution_count": 76,
   "id": "54722b39-7eb9-49b0-b5cb-4433b87ae79f",
   "metadata": {},
   "outputs": [
    {
     "data": {
      "text/plain": [
       "' '"
      ]
     },
     "execution_count": 76,
     "metadata": {},
     "output_type": "execute_result"
    }
   ],
   "source": [
    "string[5]"
   ]
  },
  {
   "cell_type": "raw",
   "id": "3ce5409d-aec1-45f2-8da8-2ae0d1c7a64a",
   "metadata": {},
   "source": [
    "=============================string Slicing====================="
   ]
  },
  {
   "cell_type": "code",
   "execution_count": 78,
   "id": "b42cd3d6-8998-4a78-9c12-8b15368c01d0",
   "metadata": {},
   "outputs": [
    {
     "data": {
      "text/plain": [
       "'Hello'"
      ]
     },
     "execution_count": 78,
     "metadata": {},
     "output_type": "execute_result"
    }
   ],
   "source": [
    "string1 = \"Hello world\"  # string slicing\n",
    "string1[0:5]"
   ]
  },
  {
   "cell_type": "code",
   "execution_count": 79,
   "id": "ef79c6e7-6e08-4db5-963f-e262a3c77936",
   "metadata": {},
   "outputs": [
    {
     "data": {
      "text/plain": [
       "'ello'"
      ]
     },
     "execution_count": 79,
     "metadata": {},
     "output_type": "execute_result"
    }
   ],
   "source": [
    "string1[1:5]"
   ]
  },
  {
   "cell_type": "code",
   "execution_count": 80,
   "id": "df02cbb1-1f5a-47f4-bb47-2cc180454895",
   "metadata": {},
   "outputs": [
    {
     "data": {
      "text/plain": [
       "'Hello'"
      ]
     },
     "execution_count": 80,
     "metadata": {},
     "output_type": "execute_result"
    }
   ],
   "source": [
    "string1[:5]"
   ]
  },
  {
   "cell_type": "code",
   "execution_count": 81,
   "id": "3abc1966-4da1-4d74-81e0-47e047428144",
   "metadata": {},
   "outputs": [
    {
     "data": {
      "text/plain": [
       "'World'"
      ]
     },
     "execution_count": 81,
     "metadata": {},
     "output_type": "execute_result"
    }
   ],
   "source": [
    "string1[-5:]"
   ]
  },
  {
   "cell_type": "code",
   "execution_count": 83,
   "id": "787ce4d9-c623-493a-b796-94c292727fc8",
   "metadata": {},
   "outputs": [
    {
     "data": {
      "text/plain": [
       "' '"
      ]
     },
     "execution_count": 83,
     "metadata": {},
     "output_type": "execute_result"
    }
   ],
   "source": [
    "string1[5]"
   ]
  },
  {
   "cell_type": "markdown",
   "id": "800d5742-3089-47a0-980a-5a4313e0b788",
   "metadata": {},
   "source": [
    "================ update and delete string===================="
   ]
  },
  {
   "cell_type": "code",
   "execution_count": 84,
   "id": "ad2d4a0b-7339-411a-9af5-e5155c78a0d2",
   "metadata": {},
   "outputs": [
    {
     "ename": "TypeError",
     "evalue": "'str' object does not support item assignment",
     "output_type": "error",
     "traceback": [
      "\u001b[1;31m---------------------------------------------------------------------------\u001b[0m",
      "\u001b[1;31mTypeError\u001b[0m                                 Traceback (most recent call last)",
      "Cell \u001b[1;32mIn[84], line 2\u001b[0m\n\u001b[0;32m      1\u001b[0m str0 \u001b[38;5;241m=\u001b[39m \u001b[38;5;124m\"\u001b[39m\u001b[38;5;124mLaptop\u001b[39m\u001b[38;5;124m\"\u001b[39m \u001b[38;5;66;03m# string are immutable we ant change after create\u001b[39;00m\n\u001b[1;32m----> 2\u001b[0m \u001b[43mstr0\u001b[49m\u001b[43m[\u001b[49m\u001b[38;5;241;43m0\u001b[39;49m\u001b[43m:\u001b[49m\u001b[38;5;241;43m5\u001b[39;49m\u001b[43m]\u001b[49m \u001b[38;5;241m=\u001b[39m \u001b[38;5;124m\"\u001b[39m\u001b[38;5;124mMob\u001b[39m\u001b[38;5;124m\"\u001b[39m\n",
      "\u001b[1;31mTypeError\u001b[0m: 'str' object does not support item assignment"
     ]
    }
   ],
   "source": [
    "str0 = \"Laptop\" # string are immutable we ant change after create\n",
    "str0[0:5] = \"Mob\""
   ]
  },
  {
   "cell_type": "code",
   "execution_count": 85,
   "id": "bec97b1f-2399-4eb4-9943-988ffbf14337",
   "metadata": {},
   "outputs": [],
   "source": [
    "del str0"
   ]
  },
  {
   "cell_type": "code",
   "execution_count": 86,
   "id": "567f33b4-70f3-4fe6-ba40-9c405365fd19",
   "metadata": {},
   "outputs": [
    {
     "ename": "NameError",
     "evalue": "name 'str0' is not defined",
     "output_type": "error",
     "traceback": [
      "\u001b[1;31m---------------------------------------------------------------------------\u001b[0m",
      "\u001b[1;31mNameError\u001b[0m                                 Traceback (most recent call last)",
      "Cell \u001b[1;32mIn[86], line 1\u001b[0m\n\u001b[1;32m----> 1\u001b[0m \u001b[38;5;28mprint\u001b[39m(\u001b[43mstr0\u001b[49m)\n",
      "\u001b[1;31mNameError\u001b[0m: name 'str0' is not defined"
     ]
    }
   ],
   "source": [
    "print(str0)"
   ]
  },
  {
   "cell_type": "raw",
   "id": "106206a8-a107-470e-aef6-ef57de308b1b",
   "metadata": {},
   "source": [
    "====================== string Concatination ==================="
   ]
  },
  {
   "cell_type": "code",
   "execution_count": 91,
   "id": "bf387630-b3ef-4e5b-8f16-3f7bee4c14ea",
   "metadata": {},
   "outputs": [
    {
     "name": "stdout",
     "output_type": "stream",
     "text": [
      "helloAsif\n"
     ]
    }
   ],
   "source": [
    "# string concatination\n",
    "s1 = \"hello\"\n",
    "s2 = \"Asif\"\n",
    "s3 = s1 + s2\n",
    "print(s3)"
   ]
  },
  {
   "cell_type": "code",
   "execution_count": 94,
   "id": "58057615-301b-4900-bc5b-d07e065c90fe",
   "metadata": {},
   "outputs": [
    {
     "name": "stdout",
     "output_type": "stream",
     "text": [
      "10\n"
     ]
    }
   ],
   "source": [
    "_hur =10\n",
    "print(_hur)  # we canuse slash "
   ]
  },
  {
   "cell_type": "code",
   "execution_count": null,
   "id": "39760322-24d7-4b84-8543-34fd1b5f1337",
   "metadata": {},
   "outputs": [],
   "source": []
  }
 ],
 "metadata": {
  "kernelspec": {
   "display_name": "Python 3 (ipykernel)",
   "language": "python",
   "name": "python3"
  },
  "language_info": {
   "codemirror_mode": {
    "name": "ipython",
    "version": 3
   },
   "file_extension": ".py",
   "mimetype": "text/x-python",
   "name": "python",
   "nbconvert_exporter": "python",
   "pygments_lexer": "ipython3",
   "version": "3.12.4"
  }
 },
 "nbformat": 4,
 "nbformat_minor": 5
}
