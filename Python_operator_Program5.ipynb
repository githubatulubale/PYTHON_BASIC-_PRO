{
 "cells": [
  {
   "cell_type": "markdown",
   "id": "09ce11c9-1572-4c3a-ba4b-f8a01b342ce1",
   "metadata": {},
   "source": [
    "# Arithmetic Operations in Python"
   ]
  },
  {
   "cell_type": "code",
   "execution_count": 6,
   "id": "6689c90f-faad-40d6-9116-194f33307cd0",
   "metadata": {},
   "outputs": [
    {
     "name": "stdout",
     "output_type": "stream",
     "text": [
      "Addiction: 10\n",
      "sub: 8\n",
      "Multiplication: 300\n",
      "division: 5.0\n",
      "Division without the remaining:  5\n",
      "Module: 0\n",
      "Exponential: 27\n"
     ]
    }
   ],
   "source": [
    "a = 10\n",
    "b = 20\n",
    "sum = a + b\n",
    "print(\"Addiction:\",30 - 20)\n",
    "print(\"sub:\", 9 - 1)\n",
    "print(\"Multiplication:\",30 * 10)\n",
    "print(\"division:\", 50/10)\n",
    "print(\"Division without the remaining: \",50//10)\n",
    "print(\"Module:\",10%2)\n",
    "print(\"Exponential:\", 3 ** 3)"
   ]
  },
  {
   "cell_type": "code",
   "execution_count": 7,
   "id": "f1f3b1b8-e260-4966-9695-0e543f2fb6dd",
   "metadata": {},
   "outputs": [],
   "source": [
    "# floating number"
   ]
  },
  {
   "cell_type": "code",
   "execution_count": 8,
   "id": "f00384dd-7948-4d1f-9202-0a8bde6d85c4",
   "metadata": {},
   "outputs": [
    {
     "name": "stdout",
     "output_type": "stream",
     "text": [
      "Floating number , PI: 3.14\n",
      "Floating number,  Gravity: 9.81\n"
     ]
    }
   ],
   "source": [
    "print(\"Floating number , PI:\",3.14)\n",
    "print(\"Floating number,  Gravity:\",9.81)"
   ]
  },
  {
   "cell_type": "code",
   "execution_count": 9,
   "id": "618d71e7-dc2f-4d77-8171-d7276b72c6ff",
   "metadata": {},
   "outputs": [],
   "source": [
    "# complex number"
   ]
  },
  {
   "cell_type": "code",
   "execution_count": 10,
   "id": "e3cccda5-cb94-41f7-931d-d845e5fc8add",
   "metadata": {},
   "outputs": [
    {
     "name": "stdout",
     "output_type": "stream",
     "text": [
      "complex number: (1+6j)\n"
     ]
    }
   ],
   "source": [
    "print(\"complex number:\",(1 + 6j))"
   ]
  },
  {
   "cell_type": "code",
   "execution_count": 11,
   "id": "69c38a55-f6e9-4a67-8592-f78e28681349",
   "metadata": {},
   "outputs": [
    {
     "name": "stdout",
     "output_type": "stream",
     "text": [
      "operation of complex number: (2+10j)\n"
     ]
    }
   ],
   "source": [
    "print(\"operation of complex number:\",(1+5j) + (1+5j))"
   ]
  },
  {
   "cell_type": "code",
   "execution_count": 12,
   "id": "ab67e986-5be4-4c65-ae44-ed7ccb61afd7",
   "metadata": {},
   "outputs": [],
   "source": [
    "# declare the variable name"
   ]
  },
  {
   "cell_type": "code",
   "execution_count": 14,
   "id": "2b434881-2dea-4eae-8c65-af0cdb222d34",
   "metadata": {},
   "outputs": [
    {
     "name": "stdout",
     "output_type": "stream",
     "text": [
      "total: 30\n",
      "Diff: -10\n",
      "Mul: 200\n",
      "division: 2.0\n",
      "reminder: 0\n",
      "Exponent: 100\n",
      "floor division: 2\n"
     ]
    }
   ],
   "source": [
    "a = 10\n",
    "b = 20\n",
    "print(\"total:\",a+b)\n",
    "print(\"Diff:\",a - b)\n",
    "print(\"Mul:\",a * b)\n",
    "print(\"division:\",b/a)\n",
    "print(\"reminder:\", 20 % 10)\n",
    "print(\"Exponent:\", 10 ** 2)\n",
    "print(\"floor division:\", b // a)"
   ]
  },
  {
   "cell_type": "code",
   "execution_count": 15,
   "id": "44fe89b5-bd9a-4074-9145-05bde571a187",
   "metadata": {},
   "outputs": [],
   "source": [
    "# Artithmetic operation using variable"
   ]
  },
  {
   "cell_type": "code",
   "execution_count": 16,
   "id": "481d5afc-a92c-4a50-9678-4ea41ae92483",
   "metadata": {},
   "outputs": [],
   "source": [
    "total  = a + b"
   ]
  },
  {
   "cell_type": "code",
   "execution_count": 22,
   "id": "2c012743-773f-48ec-b171-e43da08ef9e3",
   "metadata": {},
   "outputs": [
    {
     "name": "stdout",
     "output_type": "stream",
     "text": [
      "30\n",
      "a + b: 30\n",
      "a - b: -10\n",
      "a / b: 0.5\n",
      "a // b: 0\n",
      "a % b 10\n",
      "a **b: 100000000000000000000\n"
     ]
    }
   ],
   "source": [
    "add = a + b\n",
    "sub = a - b\n",
    "divi = a / b\n",
    "floor_div = a // b\n",
    "module = a % b\n",
    "exponent = a ** b\n",
    "print(add)\n",
    "print('a + b:',add)\n",
    "print('a - b:',sub)\n",
    "print('a / b:',divi)\n",
    "print('a // b:',floor_div)\n",
    "print('a % b',module)\n",
    "print('a **b:',exponent)"
   ]
  },
  {
   "cell_type": "code",
   "execution_count": 23,
   "id": "b5f64be1-762b-4b3c-ae13-217f8980940b",
   "metadata": {},
   "outputs": [],
   "source": [
    "# calculate area of circle"
   ]
  },
  {
   "cell_type": "code",
   "execution_count": 32,
   "id": "22916064-75b9-40e3-98b2-dde67bf8caff",
   "metadata": {},
   "outputs": [
    {
     "name": "stdout",
     "output_type": "stream",
     "text": [
      "25434.0\n"
     ]
    }
   ],
   "source": [
    "radius = 90\n",
    "area_of_circle = 3.14*radius**2  # power or exponent\n",
    "print(area_of_circle)"
   ]
  },
  {
   "cell_type": "code",
   "execution_count": 33,
   "id": "eb4ec2d6-727f-407a-9ba6-952d9338dcad",
   "metadata": {},
   "outputs": [],
   "source": [
    "# area of rectangle"
   ]
  },
  {
   "cell_type": "code",
   "execution_count": 35,
   "id": "27f80b70-502e-4c38-b39c-30a40878e185",
   "metadata": {},
   "outputs": [
    {
     "name": "stdout",
     "output_type": "stream",
     "text": [
      "120\n"
     ]
    }
   ],
   "source": [
    "length = 10\n",
    "breath = 12\n",
    "area_of_rectangle = length * breath\n",
    "print(area_of_rectangle)"
   ]
  },
  {
   "cell_type": "code",
   "execution_count": 37,
   "id": "35427007-d09e-469c-beb3-9f4c6f6e4006",
   "metadata": {},
   "outputs": [],
   "source": [
    "# Calculating a weight of an object"
   ]
  },
  {
   "cell_type": "code",
   "execution_count": 38,
   "id": "a113197f-d928-4c16-9d49-d5fe7d678a8d",
   "metadata": {},
   "outputs": [
    {
     "name": "stdout",
     "output_type": "stream",
     "text": [
      "882.9000000000001 N\n"
     ]
    }
   ],
   "source": [
    "mass = 90\n",
    "gravity = 9.81\n",
    "weight = mass * gravity\n",
    "print(weight,\"N\")"
   ]
  },
  {
   "cell_type": "code",
   "execution_count": 39,
   "id": "4fd56e7e-053e-4ffa-a319-ce47a314a2bf",
   "metadata": {},
   "outputs": [],
   "source": [
    "# relational operator"
   ]
  },
  {
   "cell_type": "code",
   "execution_count": 47,
   "id": "dd7eb57b-ce9e-438c-a540-6fb1f996e6bc",
   "metadata": {},
   "outputs": [
    {
     "name": "stdout",
     "output_type": "stream",
     "text": [
      "True\n",
      "False\n",
      "True\n",
      "True\n",
      "True\n",
      "True\n",
      "False\n"
     ]
    }
   ],
   "source": [
    "print(3 > 2)\n",
    "print(5 < 1)\n",
    "print(5 <= 5 )\n",
    "print(5 <= 6)\n",
    "print(5  >= 1)\n",
    "print(5 == 5)\n",
    "print(5 != 5)"
   ]
  },
  {
   "cell_type": "code",
   "execution_count": 53,
   "id": "26852fa1-778b-402c-afcc-eebc763eea05",
   "metadata": {},
   "outputs": [
    {
     "name": "stdout",
     "output_type": "stream",
     "text": [
      "True\n",
      "False\n",
      "True\n",
      "False\n"
     ]
    }
   ],
   "source": [
    "print(len('mango') < len('applee'))\n",
    "print(len('Hello') > len('worldd'))\n",
    "print(len('python') == len('python'))\n",
    "print(len('java') != len('java'))"
   ]
  },
  {
   "cell_type": "code",
   "execution_count": 55,
   "id": "433fbd0e-391e-4f56-bc16-fc667be2c166",
   "metadata": {},
   "outputs": [],
   "source": [
    "# Boolean operator operation"
   ]
  },
  {
   "cell_type": "code",
   "execution_count": 59,
   "id": "b8fac7d2-833a-485f-adab-0c2ae65a65a8",
   "metadata": {},
   "outputs": [
    {
     "name": "stdout",
     "output_type": "stream",
     "text": [
      "True == True: True\n",
      "True == False: False\n",
      "False == False: True\n",
      "True and True: True\n",
      "True or False: True\n"
     ]
    }
   ],
   "source": [
    "print(\"True == True:\",True==True)\n",
    "print(\"True == False:\",True == False)\n",
    "print(\"False == False:\",False == False)\n",
    "print(\"True and True:\",True and True)\n",
    "print(\"True or False:\",True or False)"
   ]
  },
  {
   "cell_type": "code",
   "execution_count": 60,
   "id": "5699fb74-bfb4-4248-8d85-0193e8b0c675",
   "metadata": {},
   "outputs": [],
   "source": [
    "# special operator"
   ]
  },
  {
   "cell_type": "code",
   "execution_count": 70,
   "id": "80f2a858-87a0-4fd5-989b-f4ca64736415",
   "metadata": {},
   "outputs": [
    {
     "name": "stdout",
     "output_type": "stream",
     "text": [
      "a is a: True\n",
      "a is b False\n",
      "1 is not 2 True\n",
      "A in Abhishek: True\n",
      "B in Abhishek: False\n"
     ]
    },
    {
     "name": "stderr",
     "output_type": "stream",
     "text": [
      "<>:3: SyntaxWarning: \"is not\" with 'int' literal. Did you mean \"!=\"?\n",
      "<>:3: SyntaxWarning: \"is not\" with 'int' literal. Did you mean \"!=\"?\n",
      "C:\\Users\\Sambhaji(Sam)Nanavar\\AppData\\Local\\Temp\\ipykernel_37104\\3117110226.py:3: SyntaxWarning: \"is not\" with 'int' literal. Did you mean \"!=\"?\n",
      "  print(\"1 is not 2\", 1 is not 2)\n"
     ]
    }
   ],
   "source": [
    "print(\"a is a:\", a is a)\n",
    "print(\"a is b\", a is b)\n",
    "print(\"1 is not 2\", 1 is not 2)\n",
    "print(\"A in Abhishek:\", 'A' in \"Abhishek\")\n",
    "print(\"B in Abhishek:\",'B' in \"Abhishek\")"
   ]
  },
  {
   "cell_type": "code",
   "execution_count": 72,
   "id": "db0a44a5-e1d0-4fbe-ad1e-2ecd6f6d9598",
   "metadata": {},
   "outputs": [
    {
     "name": "stdout",
     "output_type": "stream",
     "text": [
      "True\n"
     ]
    }
   ],
   "source": [
    "print(\"Abhi\" in \"Abhi in the park\")"
   ]
  },
  {
   "cell_type": "code",
   "execution_count": 73,
   "id": "e8698ffa-17c9-4e2e-9c65-8af2dfe352f8",
   "metadata": {},
   "outputs": [
    {
     "name": "stdout",
     "output_type": "stream",
     "text": [
      "True\n"
     ]
    }
   ],
   "source": [
    "print(\"a\" in \"abhi\")"
   ]
  },
  {
   "cell_type": "code",
   "execution_count": 74,
   "id": "c11f5221-67d3-4b20-a41a-ff7f1d7a35a2",
   "metadata": {},
   "outputs": [
    {
     "name": "stdout",
     "output_type": "stream",
     "text": [
      "4 is 2 ** 2 True\n"
     ]
    },
    {
     "name": "stderr",
     "output_type": "stream",
     "text": [
      "<>:1: SyntaxWarning: \"is\" with 'int' literal. Did you mean \"==\"?\n",
      "<>:1: SyntaxWarning: \"is\" with 'int' literal. Did you mean \"==\"?\n",
      "C:\\Users\\Sambhaji(Sam)Nanavar\\AppData\\Local\\Temp\\ipykernel_37104\\4028775422.py:1: SyntaxWarning: \"is\" with 'int' literal. Did you mean \"==\"?\n",
      "  print(\"4 is 2 ** 2\",4 is 2 ** 2)\n"
     ]
    }
   ],
   "source": [
    "print(\"4 is 2 ** 2\",4 is 2 ** 2)"
   ]
  },
  {
   "cell_type": "code",
   "execution_count": 78,
   "id": "18322d63-c922-4ca7-92d0-ffd4e4a469b2",
   "metadata": {},
   "outputs": [
    {
     "name": "stdout",
     "output_type": "stream",
     "text": [
      "False\n",
      "False\n",
      "True\n"
     ]
    }
   ],
   "source": [
    "print(3>4 and 4>2)\n",
    "print(8>1 and 9>10)\n",
    "print(1<3 or 9>10)"
   ]
  },
  {
   "cell_type": "code",
   "execution_count": 79,
   "id": "8fc52df8-906a-4f27-9d0e-5dff2ef30d06",
   "metadata": {},
   "outputs": [
    {
     "name": "stdout",
     "output_type": "stream",
     "text": [
      "False\n"
     ]
    }
   ],
   "source": [
    "print(not 3> 2)"
   ]
  },
  {
   "cell_type": "code",
   "execution_count": 80,
   "id": "a4eaf0d1-6f23-4948-b7c2-d59d15c21d95",
   "metadata": {},
   "outputs": [
    {
     "name": "stdout",
     "output_type": "stream",
     "text": [
      "True\n"
     ]
    }
   ],
   "source": [
    "print(not 5 <2)"
   ]
  },
  {
   "cell_type": "code",
   "execution_count": 81,
   "id": "a1190bf1-3552-401e-b4c2-30fa462ec394",
   "metadata": {},
   "outputs": [
    {
     "name": "stdout",
     "output_type": "stream",
     "text": [
      "True\n"
     ]
    }
   ],
   "source": [
    "print(not not True)"
   ]
  },
  {
   "cell_type": "code",
   "execution_count": 84,
   "id": "6c711614-a13d-4a26-be09-044b091821a9",
   "metadata": {},
   "outputs": [
    {
     "name": "stdout",
     "output_type": "stream",
     "text": [
      "False\n"
     ]
    }
   ],
   "source": [
    "print(not not False)"
   ]
  },
  {
   "cell_type": "code",
   "execution_count": null,
   "id": "abac8770-b6b4-4866-8d67-79eac27b1183",
   "metadata": {},
   "outputs": [],
   "source": []
  }
 ],
 "metadata": {
  "kernelspec": {
   "display_name": "Python 3 (ipykernel)",
   "language": "python",
   "name": "python3"
  },
  "language_info": {
   "codemirror_mode": {
    "name": "ipython",
    "version": 3
   },
   "file_extension": ".py",
   "mimetype": "text/x-python",
   "name": "python",
   "nbconvert_exporter": "python",
   "pygments_lexer": "ipython3",
   "version": "3.12.4"
  }
 },
 "nbformat": 4,
 "nbformat_minor": 5
}
