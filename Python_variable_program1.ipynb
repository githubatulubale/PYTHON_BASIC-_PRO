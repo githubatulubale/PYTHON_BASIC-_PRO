{
 "cells": [
  {
   "cell_type": "markdown",
   "id": "0f6d570c-7bcd-4ade-823e-23921666a98c",
   "metadata": {},
   "source": [
    "# Python Variable"
   ]
  },
  {
   "cell_type": "code",
   "execution_count": 2,
   "id": "3d94ebc5-e5e8-42a6-8c19-b102b4de9b32",
   "metadata": {},
   "outputs": [
    {
     "name": "stdout",
     "output_type": "stream",
     "text": [
      "25\n"
     ]
    }
   ],
   "source": [
    "Age = 25   # integer variable\n",
    "print(Age)"
   ]
  },
  {
   "cell_type": "code",
   "execution_count": 3,
   "id": "2ac17622-fa59-473e-9116-33343020ee96",
   "metadata": {},
   "outputs": [
    {
     "name": "stdout",
     "output_type": "stream",
     "text": [
      "Atul\n"
     ]
    }
   ],
   "source": [
    "name = \"Atul\"  #string variable\n",
    "print(name)"
   ]
  },
  {
   "cell_type": "code",
   "execution_count": 5,
   "id": "c71f9ff1-0617-400c-928e-72781f949202",
   "metadata": {},
   "outputs": [
    {
     "name": "stdout",
     "output_type": "stream",
     "text": [
      "89.9\n"
     ]
    }
   ],
   "source": [
    "price = 89.90  # float variable\n",
    "print(price)"
   ]
  },
  {
   "cell_type": "code",
   "execution_count": 6,
   "id": "8f651941-d33e-44f2-8030-2fb92254760b",
   "metadata": {},
   "outputs": [
    {
     "name": "stdout",
     "output_type": "stream",
     "text": [
      "True\n"
     ]
    }
   ],
   "source": [
    "Active = True  # Boolean Type \n",
    "print(Active)"
   ]
  },
  {
   "cell_type": "code",
   "execution_count": 7,
   "id": "5378a4ad-5b2e-4e91-a964-cd03d1ef1061",
   "metadata": {},
   "outputs": [
    {
     "name": "stdout",
     "output_type": "stream",
     "text": [
      "10\n"
     ]
    }
   ],
   "source": [
    "x = 10  # printing value variable is x and value is 10\n",
    "print(x)"
   ]
  },
  {
   "cell_type": "code",
   "execution_count": 8,
   "id": "bf6aebb3-78d9-48ad-b588-95dee31f666b",
   "metadata": {},
   "outputs": [
    {
     "name": "stdout",
     "output_type": "stream",
     "text": [
      "30\n"
     ]
    }
   ],
   "source": [
    "a = 10  \n",
    "b = 20\n",
    "result = a + b  # store result in result variable \n",
    "print(a+b) "
   ]
  },
  {
   "cell_type": "code",
   "execution_count": 9,
   "id": "6c24ed3e-d3ab-45d3-b0cc-75b15880830c",
   "metadata": {},
   "outputs": [
    {
     "name": "stdout",
     "output_type": "stream",
     "text": [
      "10\n"
     ]
    }
   ],
   "source": [
    "score = 10\n",
    "print(score)"
   ]
  },
  {
   "cell_type": "code",
   "execution_count": 11,
   "id": "777c0033-c09e-4f1a-b4c2-1f760477c3a8",
   "metadata": {},
   "outputs": [
    {
     "name": "stdout",
     "output_type": "stream",
     "text": [
      "20\n"
     ]
    }
   ],
   "source": [
    "score = 20   # change the value of score variable\n",
    "print(score)"
   ]
  },
  {
   "cell_type": "code",
   "execution_count": 12,
   "id": "a2bafbf0-f2e0-4572-b28b-16c3eda91777",
   "metadata": {},
   "outputs": [
    {
     "name": "stdout",
     "output_type": "stream",
     "text": [
      "Atul Ubale\n"
     ]
    }
   ],
   "source": [
    "first_name = \"Atul\"  # concatinate the string\n",
    "last_name = \"Ubale\"\n",
    "\n",
    "full_name = first_name + \" \" + last_name\n",
    "print(full_name)"
   ]
  },
  {
   "cell_type": "code",
   "execution_count": 13,
   "id": "290a229c-3b6c-4b2c-ac0a-7c49a7fe0e5b",
   "metadata": {},
   "outputs": [],
   "source": [
    "# calculate the area of rectangle"
   ]
  },
  {
   "cell_type": "code",
   "execution_count": 15,
   "id": "f59f4f1a-1aae-425a-95a8-7b64edfe3204",
   "metadata": {},
   "outputs": [
    {
     "name": "stdout",
     "output_type": "stream",
     "text": [
      "1800\n"
     ]
    }
   ],
   "source": [
    "length = 20\n",
    "width = 90\n",
    "\n",
    "Area = length * width\n",
    "print(Area)"
   ]
  },
  {
   "cell_type": "code",
   "execution_count": 16,
   "id": "780de1b6-beae-4bac-9c9f-d27028e8c3d4",
   "metadata": {},
   "outputs": [
    {
     "name": "stdout",
     "output_type": "stream",
     "text": [
      "10\n"
     ]
    }
   ],
   "source": [
    "x = 10\n",
    "print(x)"
   ]
  },
  {
   "cell_type": "code",
   "execution_count": 17,
   "id": "33025821-540d-4452-8a8d-adc506278b9f",
   "metadata": {},
   "outputs": [
    {
     "name": "stdout",
     "output_type": "stream",
     "text": [
      "20\n"
     ]
    }
   ],
   "source": [
    "x = 20\n",
    "print(x)"
   ]
  },
  {
   "cell_type": "code",
   "execution_count": null,
   "id": "3027d3d1-4384-470c-9e47-9b11dcd909d4",
   "metadata": {},
   "outputs": [],
   "source": []
  }
 ],
 "metadata": {
  "kernelspec": {
   "display_name": "Python 3 (ipykernel)",
   "language": "python",
   "name": "python3"
  },
  "language_info": {
   "codemirror_mode": {
    "name": "ipython",
    "version": 3
   },
   "file_extension": ".py",
   "mimetype": "text/x-python",
   "name": "python",
   "nbconvert_exporter": "python",
   "pygments_lexer": "ipython3",
   "version": "3.12.4"
  }
 },
 "nbformat": 4,
 "nbformat_minor": 5
}
